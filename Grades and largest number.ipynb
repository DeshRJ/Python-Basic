{
 "cells": [
  {
   "cell_type": "code",
   "execution_count": 1,
   "id": "abb88287",
   "metadata": {},
   "outputs": [
    {
     "name": "stdout",
     "output_type": "stream",
     "text": [
      "Enter score: 0.9\n",
      "A\n"
     ]
    }
   ],
   "source": [
    "inp = input('Enter score: ')\n",
    "try:\n",
    "    score = float(inp)\n",
    "except:\n",
    "    score = -1\n",
    "\n",
    "if score > 1.0 or score < 0.0:\n",
    "    print('Bad score')\n",
    "elif score >= 0.9:\n",
    "    print('A')\n",
    "elif score >= 0.8:\n",
    "    print('B')\n",
    "elif score >= 0.7:\n",
    "    print('C')\n",
    "elif score >= 0.6:\n",
    "    print('D')\n",
    "else:\n",
    "    print('F')"
   ]
  },
  {
   "cell_type": "code",
   "execution_count": 2,
   "id": "7a0f06a4",
   "metadata": {},
   "outputs": [
    {
     "name": "stdout",
     "output_type": "stream",
     "text": [
      "Before: None\n",
      "Loop: 3 3\n",
      "Loop: 41 41\n",
      "Loop: 12 41\n",
      "Loop: 9 41\n",
      "Loop: 74 74\n",
      "Loop: 15 74\n",
      "Largest: 74\n"
     ]
    }
   ],
   "source": [
    "largest = None\n",
    "print('Before:', largest)\n",
    "for iterval in [3, 41, 12, 9, 74, 15]:\n",
    "    if largest is None or largest < iterval:\n",
    "        largest = iterval\n",
    "    print('Loop:', iterval, largest)\n",
    "print('Largest:', largest)\n"
   ]
  },
  {
   "cell_type": "code",
   "execution_count": null,
   "id": "ac2fc85d",
   "metadata": {},
   "outputs": [],
   "source": []
  }
 ],
 "metadata": {
  "kernelspec": {
   "display_name": "Python 3 (ipykernel)",
   "language": "python",
   "name": "python3"
  },
  "language_info": {
   "codemirror_mode": {
    "name": "ipython",
    "version": 3
   },
   "file_extension": ".py",
   "mimetype": "text/x-python",
   "name": "python",
   "nbconvert_exporter": "python",
   "pygments_lexer": "ipython3",
   "version": "3.9.12"
  }
 },
 "nbformat": 4,
 "nbformat_minor": 5
}
