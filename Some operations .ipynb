{
 "cells": [
  {
   "cell_type": "code",
   "execution_count": 2,
   "id": "7f07cea5",
   "metadata": {},
   "outputs": [
    {
     "name": "stdout",
     "output_type": "stream",
     "text": [
      "Enter a Number:35\n",
      "35 106 53.0 160.0 80.0 40.0 20.0 10.0 5.0 16.0 8.0 4.0 2.0 "
     ]
    }
   ],
   "source": [
    "#sequence calculation\n",
    "inp = input('Enter a Number:')\n",
    "n = int(inp)\n",
    "while n != 1:\n",
    "    print(n, end=' ')     # Use comma to suppress newline\n",
    "    if n % 2 == 0:        # n is even\n",
    "        n = n / 2\n",
    "    else:                 # n is odd\n",
    "        n = n * 3 + 1\n"
   ]
  },
  {
   "cell_type": "code",
   "execution_count": 3,
   "id": "0cc60bb3",
   "metadata": {},
   "outputs": [
    {
     "name": "stdout",
     "output_type": "stream",
     "text": [
      "Enter Hours: 10\n",
      "Enter Rate: 150\n",
      "Pay: 1500.0\n"
     ]
    }
   ],
   "source": [
    "#calculate pay\n",
    "inp = input('Enter Hours: ')\n",
    "hours = float(inp)\n",
    "inp = input('Enter Rate: ')\n",
    "rate = float(inp)\n",
    "pay = hours * rate\n",
    "print('Pay:', pay)\n",
    "\n"
   ]
  },
  {
   "cell_type": "code",
   "execution_count": 4,
   "id": "ddad16d5",
   "metadata": {},
   "outputs": [
    {
     "name": "stdout",
     "output_type": "stream",
     "text": [
      "Enter Hours: 10\n",
      "Enter Rate: 150\n",
      "Pay: 1500.0\n"
     ]
    }
   ],
   "source": [
    "inp = input('Enter Hours: ')\n",
    "hours = float(inp)\n",
    "inp = input('Enter Rate: ')\n",
    "rate = float(inp)\n",
    "if hours > 40:\n",
    "    pay = hours * rate + (hours - 40) * rate * 0.5\n",
    "else:\n",
    "    pay = hours * rate\n",
    "print('Pay:', pay)"
   ]
  },
  {
   "cell_type": "code",
   "execution_count": 5,
   "id": "47097f8d",
   "metadata": {},
   "outputs": [
    {
     "name": "stdout",
     "output_type": "stream",
     "text": [
      "Enter Celsius Temperature:25\n",
      "77.0\n"
     ]
    }
   ],
   "source": [
    "#temperature \n",
    "inp = input('Enter Celsius Temperature:')\n",
    "cel = float(inp)\n",
    "fahr = (cel * 9.0) / 5.0 + 32.0\n",
    "print(fahr)"
   ]
  },
  {
   "cell_type": "code",
   "execution_count": null,
   "id": "9324b70c",
   "metadata": {},
   "outputs": [],
   "source": []
  }
 ],
 "metadata": {
  "kernelspec": {
   "display_name": "Python 3 (ipykernel)",
   "language": "python",
   "name": "python3"
  },
  "language_info": {
   "codemirror_mode": {
    "name": "ipython",
    "version": 3
   },
   "file_extension": ".py",
   "mimetype": "text/x-python",
   "name": "python",
   "nbconvert_exporter": "python",
   "pygments_lexer": "ipython3",
   "version": "3.9.12"
  }
 },
 "nbformat": 4,
 "nbformat_minor": 5
}
